{
 "cells": [
  {
   "cell_type": "markdown",
   "metadata": {},
   "source": [
    "# Support Vector Machines\n",
    "\n",
    "This is a very expansive topic, and so reading through the [documentation](http://scikit-learn.org/stable/modules/generated/sklearn.svm.SVC.html) for support vector classifiers is recommended"
   ]
  },
  {
   "cell_type": "code",
   "execution_count": 3,
   "metadata": {},
   "outputs": [],
   "source": [
    "from sklearn.svm import SVC"
   ]
  },
  {
   "cell_type": "code",
   "execution_count": 1,
   "metadata": {},
   "outputs": [],
   "source": [
    "X = [[-1, -1], [-2, -1], [1, 1], [2, 1]]\n",
    "y = [1, 1, 2, 2]"
   ]
  },
  {
   "cell_type": "markdown",
   "metadata": {},
   "source": [
    "## kernels\n",
    "\n",
    "Here we initialize the classifier with two different types of kernels (we can even use a custom kernel) and train the model on the data we defined above."
   ]
  },
  {
   "cell_type": "code",
   "execution_count": 17,
   "metadata": {},
   "outputs": [
    {
     "data": {
      "text/plain": [
       "SVC(C=1.0, cache_size=200, class_weight=None, coef0=0.0,\n",
       "    decision_function_shape='ovr', degree=3, gamma='auto', kernel='rbf',\n",
       "    max_iter=-1, probability=False, random_state=None, shrinking=True,\n",
       "    tol=0.001, verbose=False)"
      ]
     },
     "execution_count": 17,
     "metadata": {},
     "output_type": "execute_result"
    }
   ],
   "source": [
    "clf0 = SVC(gamma = 'auto', kernel = 'linear')\n",
    "clf1 = SVC(gamma = 'auto', kernel = 'rbf')\n",
    "\n",
    "clf0.fit(X, y)\n",
    "clf1.fit(X, y)"
   ]
  },
  {
   "cell_type": "markdown",
   "metadata": {},
   "source": [
    "Here, we see that depending on the type of kernel we use, our predictions will vary. Hence it is important that you know your data well before you start training. The data we've used is meaningless and just for the purpose of demonstration, but the same cannot be said for real world data."
   ]
  },
  {
   "cell_type": "code",
   "execution_count": 18,
   "metadata": {},
   "outputs": [
    {
     "name": "stdout",
     "output_type": "stream",
     "text": [
      "linear kernel:  [2] [1]\n",
      "rbf kernel:  [1] [1]\n"
     ]
    }
   ],
   "source": [
    "print(\"linear kernel: \", clf0.predict([[0, 0]]), clf0.predict([[-0.8, -1]]))\n",
    "print(\"rbf kernel: \", clf1.predict([[0, 0]]), clf1.predict([[-0.8, -1]]))"
   ]
  }
 ],
 "metadata": {
  "kernelspec": {
   "display_name": "Python 3",
   "language": "python",
   "name": "python3"
  },
  "language_info": {
   "codemirror_mode": {
    "name": "ipython",
    "version": 3
   },
   "file_extension": ".py",
   "mimetype": "text/x-python",
   "name": "python",
   "nbconvert_exporter": "python",
   "pygments_lexer": "ipython3",
   "version": "3.6.7"
  }
 },
 "nbformat": 4,
 "nbformat_minor": 2
}
