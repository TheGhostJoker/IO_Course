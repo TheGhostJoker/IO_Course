{
 "cells": [
  {
   "cell_type": "code",
   "execution_count": 1,
   "metadata": {},
   "outputs": [],
   "source": [
    "#importing dependencies\n",
    "\n",
    "from sklearn.linear_model import LinearRegression\n",
    "import numpy as np\n",
    "import matplotlib.pyplot as plt"
   ]
  },
  {
   "cell_type": "markdown",
   "metadata": {},
   "source": [
    "# Linear Regression \n",
    "## Single input variable, single output variable\n",
    "let us perform linear regression on a few datapoints.\n",
    "\n",
    "let the data be ```[(2, 3), (4, 5), (6, 7), (8, 9)]```\n",
    "\n",
    "We will try to fit a line to these data points. In the end we should end up with a line which we can represent by Y = m.x + b\n",
    "\n",
    "In this case, the first value in every tuple is a value of x, and the second value of every tuple is a value of y(the output variable)\n"
   ]
  },
  {
   "cell_type": "code",
   "execution_count": 2,
   "metadata": {},
   "outputs": [],
   "source": [
    "#initializing a list with the given data\n",
    "\n",
    "data = [(2.3, 3), (4.1, 5), (6.8, 7), (8.1, 9)]\n",
    "\n",
    "x = [[item[0]] for item in data]\n",
    "y = [[item[1]] for item in data]\n",
    "\n",
    "#now x and y contain their corresponding values \n"
   ]
  },
  {
   "cell_type": "markdown",
   "metadata": {},
   "source": [
    "Plotting the graph for the data points to see how the data is spread out.\n",
    "\n",
    "We use the graphing library matplotlib for this. We are going to construct a scatterplot."
   ]
  },
  {
   "cell_type": "code",
   "execution_count": 3,
   "metadata": {},
   "outputs": [
    {
     "data": {
      "image/png": "[encoded data removed]",
      "text/plain": [
       "<Figure size 432x288 with 1 Axes>"
      ]
     },
     "metadata": {},
     "output_type": "display_data"
    }
   ],
   "source": [
    "plt.scatter(x, y, color = 'black')\n",
    "plt.show()"
   ]
  },
  {
   "cell_type": "markdown",
   "metadata": {},
   "source": [
    "We use sklearn's LinearRegression to fit a line onto our data points"
   ]
  },
  {
   "cell_type": "code",
   "execution_count": 4,
   "metadata": {},
   "outputs": [],
   "source": [
    "reg = LinearRegression().fit(x, y)"
   ]
  },
  {
   "cell_type": "markdown",
   "metadata": {},
   "source": [
    "We look at the accuracy of our model with the score() function."
   ]
  },
  {
   "cell_type": "code",
   "execution_count": 5,
   "metadata": {},
   "outputs": [
    {
     "data": {
      "text/plain": [
       "0.9840701497990502"
      ]
     },
     "execution_count": 5,
     "metadata": {},
     "output_type": "execute_result"
    }
   ],
   "source": [
    "reg.score(x, y)"
   ]
  },
  {
   "cell_type": "markdown",
   "metadata": {},
   "source": [
    "From our initial line equation, we need to get the values of m and b. For this, we use ```.coef_``` (which is m) and ```.intercept_``` (which is b)"
   ]
  },
  {
   "cell_type": "code",
   "execution_count": 6,
   "metadata": {},
   "outputs": [
    {
     "name": "stdout",
     "output_type": "stream",
     "text": [
      "m:  [[0.97917428]] \n",
      "b:  [0.78589697]\n"
     ]
    }
   ],
   "source": [
    "print(\"m: \", reg.coef_, \"\\nb: \", reg.intercept_)"
   ]
  },
  {
   "cell_type": "markdown",
   "metadata": {},
   "source": [
    "Now that we have our trained model, we can predict the value of y at a given x. we use the ```predict()``` function for this purpose. We essentially compute the value of m.x + b for the given value of x, and this would be the value of y."
   ]
  },
  {
   "cell_type": "code",
   "execution_count": 7,
   "metadata": {},
   "outputs": [
    {
     "name": "stdout",
     "output_type": "stream",
     "text": [
      "[[4.70259408]\n",
      " [5.68176836]\n",
      " [6.66094264]]\n"
     ]
    }
   ],
   "source": [
    "print(reg.predict([[4], [5], [6]])) \n",
    "#we are predict values for x = 4, x= 5, x= 6\n",
    "#make sure to get the dimensions right\n",
    "#scikit learn has pretty comprehensive documentation\n",
    "#https://scikit-learn.org/stable/modules/generated/sklearn.linear_model.LinearRegression.html"
   ]
  },
  {
   "cell_type": "markdown",
   "metadata": {},
   "source": [
    "We plot all the datapoints and the line that we fit onto them.\n",
    "\n",
    "We also plot the predicted points onto the line."
   ]
  },
  {
   "cell_type": "code",
   "execution_count": 8,
   "metadata": {},
   "outputs": [
    {
     "data": {
      "image/png": "[encoded data removed]",
      "text/plain": [
       "<Figure size 432x288 with 1 Axes>"
      ]
     },
     "metadata": {},
     "output_type": "display_data"
    }
   ],
   "source": [
    "test = [[8], [1.7], [4]]\n",
    "\n",
    "\n",
    "X = np.linspace(0, 10).reshape(-1, 1) #resizing the array. we have a one dimensional array of length m.\n",
    "# we need an array of dimensions m x 1 (m rows x 1 column). We dont have any constraints on the value of m. \n",
    "# we want it to be whatever value it can be when we 1 column per each column. In such cases where we are not sure of \n",
    "# the dimensions, we can use -1. of course, we cannot use it for more than one dimension usually.\n",
    "# https://docs.scipy.org/doc/numpy/reference/generated/numpy.reshape.html\n",
    "\n",
    "plt.scatter(x, y, color = 'red') #points from our training set\n",
    "plt.plot(X, reg.predict(X), color = 'blue') # the line we just fit to teh train set\n",
    "plt.scatter(test, reg.predict(test), color = 'black') # points from our test set\n",
    "plt.show()"
   ]
  },
  {
   "cell_type": "code",
   "execution_count": null,
   "metadata": {},
   "outputs": [],
   "source": []
  },
  {
   "cell_type": "code",
   "execution_count": null,
   "metadata": {},
   "outputs": [],
   "source": []
  },
  {
   "cell_type": "code",
   "execution_count": null,
   "metadata": {},
   "outputs": [],
   "source": []
  }
 ],
 "metadata": {
  "kernelspec": {
   "display_name": "Python 3",
   "language": "python",
   "name": "python3"
  },
  "language_info": {
   "codemirror_mode": {
    "name": "ipython",
    "version": 3
   },
   "file_extension": ".py",
   "mimetype": "text/x-python",
   "name": "python",
   "nbconvert_exporter": "python",
   "pygments_lexer": "ipython3",
   "version": "3.6.7"
  }
 },
 "nbformat": 4,
 "nbformat_minor": 2
}
