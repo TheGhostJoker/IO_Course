{
  "nbformat": 4,
  "nbformat_minor": 0,
  "metadata": {
    "colab": {
      "name": "Untitled38.ipynb",
      "version": "0.3.2",
      "provenance": []
    },
    "kernelspec": {
      "name": "python3",
      "display_name": "Python 3"
    }
  },
  "cells": [
    {
      "cell_type": "markdown",
      "metadata": {
        "id": "zIVCLSIbgJwA",
        "colab_type": "text"
      },
      "source": [
        "# Decision trees\n",
        "\n",
        "Here, we will try to fit a decision tree on to a dummy dataset on apples and oranges. \n",
        "In features, the first value in each data point is the weight of the fruit in grams, and the second value is 1 - smooth and 0 - bumpy (texture).\n",
        "\n",
        "in labels, we assign 1 to apples and 0 to oranges"
      ]
    },
    {
      "cell_type": "code",
      "metadata": {
        "id": "zvN01iHxfzKO",
        "colab_type": "code",
        "colab": {}
      },
      "source": [
        "from sklearn import tree"
      ],
      "execution_count": 0,
      "outputs": []
    },
    {
      "cell_type": "code",
      "metadata": {
        "id": "_yRCEcfWf3O2",
        "colab_type": "code",
        "colab": {}
      },
      "source": [
        "features = [[140, 1], [130, 1], [150, 0], [170, 0]]\n",
        "labels = [0, 0, 1, 1]"
      ],
      "execution_count": 0,
      "outputs": []
    },
    {
      "cell_type": "code",
      "metadata": {
        "id": "849DjlzUf5tt",
        "colab_type": "code",
        "colab": {
          "base_uri": "https://localhost:8080/",
          "height": 145
        },
        "outputId": "b294a56e-8a94-4550-b376-0679a8e3f99c"
      },
      "source": [
        "clf = tree.DecisionTreeClassifier()\n",
        "clf.fit(features, labels)"
      ],
      "execution_count": 3,
      "outputs": [
        {
          "output_type": "execute_result",
          "data": {
            "text/plain": [
              "DecisionTreeClassifier(class_weight=None, criterion='gini', max_depth=None,\n",
              "                       max_features=None, max_leaf_nodes=None,\n",
              "                       min_impurity_decrease=0.0, min_impurity_split=None,\n",
              "                       min_samples_leaf=1, min_samples_split=2,\n",
              "                       min_weight_fraction_leaf=0.0, presort=False,\n",
              "                       random_state=None, splitter='best')"
            ]
          },
          "metadata": {
            "tags": []
          },
          "execution_count": 3
        }
      ]
    },
    {
      "cell_type": "markdown",
      "metadata": {
        "id": "xsGCLNsugyKk",
        "colab_type": "text"
      },
      "source": [
        "# Prediction\n",
        "\n",
        "Now that we've trained the model, we can use it to predict labels.\n",
        "\n",
        "In this example, we will try to predict the name of the fruit that has a weight of 150g and has smooth texture.\n",
        "\n",
        "The answer we get is 0 => the prediction is that its an apple"
      ]
    },
    {
      "cell_type": "code",
      "metadata": {
        "id": "xLcMCVu1gmBF",
        "colab_type": "code",
        "colab": {
          "base_uri": "https://localhost:8080/",
          "height": 35
        },
        "outputId": "a38d64fe-b5fb-4b69-a7c9-459da7a58c63"
      },
      "source": [
        "clf.predict([[150, 1]])"
      ],
      "execution_count": 6,
      "outputs": [
        {
          "output_type": "execute_result",
          "data": {
            "text/plain": [
              "array([0])"
            ]
          },
          "metadata": {
            "tags": []
          },
          "execution_count": 6
        }
      ]
    },
    {
      "cell_type": "markdown",
      "metadata": {
        "id": "xyM7uldRhQ26",
        "colab_type": "text"
      },
      "source": [
        "# Visualizing the tree\n",
        "\n",
        "(this method may not  work, depending on your installation.)\n",
        "\n",
        "Here we see that the first split is made based on the value we give for smoothness. For any value above 0.5 (which has to be 1, in our case), the fruit is classified as an apple. i.e., all smooth fruits (in this case, apples and oranges) , regardless of their weight are classified as apples.\n",
        "\n",
        "The weight is not taken into account. It is a useless feature. \n",
        "\n",
        "This happens because by just using the first slit based on texture, we are able to classify all fruits correctly, hence eliminating the need for a second split."
      ]
    },
    {
      "cell_type": "code",
      "metadata": {
        "id": "_0NfODnYf828",
        "colab_type": "code",
        "colab": {
          "base_uri": "https://localhost:8080/",
          "height": 343
        },
        "outputId": "8eaa2c5f-3184-4545-9363-de1f297bd7ef"
      },
      "source": [
        "tree.plot_tree(clf.fit(features, labels))"
      ],
      "execution_count": 4,
      "outputs": [
        {
          "output_type": "execute_result",
          "data": {
            "text/plain": [
              "[Text(167.4, 163.07999999999998, 'X[1] <= 0.5\\nentropy = 0.5\\nsamples = 4\\nvalue = [2, 2]'),\n",
              " Text(83.7, 54.360000000000014, 'entropy = 0.0\\nsamples = 2\\nvalue = [0, 2]'),\n",
              " Text(251.10000000000002, 54.360000000000014, 'entropy = 0.0\\nsamples = 2\\nvalue = [2, 0]')]"
            ]
          },
          "metadata": {
            "tags": []
          },
          "execution_count": 4
        },
        {
          "output_type": "display_data",
          "data": {
            "image/png": "[encoded data removed]",
            "text/plain": [
              "<Figure size 432x288 with 1 Axes>"
            ]
          },
          "metadata": {
            "tags": []
          }
        }
      ]
    },
    {
      "cell_type": "code",
      "metadata": {
        "id": "-7IscyNBf_qt",
        "colab_type": "code",
        "colab": {}
      },
      "source": [
        ""
      ],
      "execution_count": 0,
      "outputs": []
    }
  ]
}